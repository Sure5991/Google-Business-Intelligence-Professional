{
 "cells": [
  {
   "cell_type": "code",
   "execution_count": 1,
   "id": "f1f6edd3",
   "metadata": {},
   "outputs": [],
   "source": [
    "import os\n",
    "import pandas as pd\n",
    "from sqlalchemy import create_engine\n",
    "import string"
   ]
  },
  {
   "cell_type": "code",
   "execution_count": 8,
   "id": "79273e8d",
   "metadata": {},
   "outputs": [],
   "source": [
    "def conn_sql_server():\n",
    "    db = create_engine('mssql+pyodbc://@LAPTOP-1QBNGCK1/cyclistic?trusted_connection=yes&driver=ODBC+Driver+17+for+SQL+Server')\n",
    "    return db"
   ]
  },
  {
   "cell_type": "code",
   "execution_count": 9,
   "id": "b84a0c63",
   "metadata": {},
   "outputs": [],
   "source": [
    "engine = conn_sql_server()\n",
    "conn = engine.connect()"
   ]
  },
  {
   "cell_type": "code",
   "execution_count": 4,
   "id": "6e65d17f",
   "metadata": {},
   "outputs": [
    {
     "name": "stdout",
     "output_type": "stream",
     "text": [
      "1\n",
      "2\n",
      "3\n",
      "4\n",
      "5\n",
      "6\n",
      "7\n",
      "8\n",
      "9\n",
      "10\n",
      "11\n",
      "12\n",
      "13\n",
      "14\n",
      "15\n",
      "16\n",
      "17\n",
      "18\n",
      "19\n",
      "20\n",
      "21\n",
      "22\n",
      "23\n",
      "24\n",
      "25\n",
      "26\n",
      "27\n",
      "28\n",
      "29\n",
      "30\n",
      "31\n",
      "32\n",
      "33\n",
      "34\n",
      "35\n",
      "36\n",
      "37\n",
      "38\n",
      "39\n",
      "40\n",
      "41\n",
      "42\n",
      "43\n",
      "44\n",
      "45\n",
      "46\n",
      "47\n",
      "48\n",
      "49\n",
      "50\n"
     ]
    }
   ],
   "source": [
    "folder_path = 'A:\\Data Science\\Projects\\Google Data Analyst\\Cyclistic - Bikeshare\\Data'\n",
    "count = 0\n",
    "for root,_,files in os.walk(folder_path):     \n",
    "    if (root.endswith('tripdata')):\n",
    "        file_url = os.path.join(root,files[0])\n",
    "        table_name = 'tripdata'+((os.path.splitext(files[0])[0])[0:6])\n",
    "        df = pd.read_csv(file_url)\n",
    "        count+=1\n",
    "        df.to_sql(table_name,conn,index = False,if_exists = 'replace')\n",
    "        print(count)\n",
    "        "
   ]
  },
  {
   "cell_type": "code",
   "execution_count": 12,
   "id": "2060504b",
   "metadata": {},
   "outputs": [],
   "source": [
    "conn.close()"
   ]
  },
  {
   "cell_type": "code",
   "execution_count": null,
   "id": "8dace4fa",
   "metadata": {},
   "outputs": [],
   "source": []
  }
 ],
 "metadata": {
  "kernelspec": {
   "display_name": "Python 3 (ipykernel)",
   "language": "python",
   "name": "python3"
  },
  "language_info": {
   "codemirror_mode": {
    "name": "ipython",
    "version": 3
   },
   "file_extension": ".py",
   "mimetype": "text/x-python",
   "name": "python",
   "nbconvert_exporter": "python",
   "pygments_lexer": "ipython3",
   "version": "3.11.4"
  }
 },
 "nbformat": 4,
 "nbformat_minor": 5
}
